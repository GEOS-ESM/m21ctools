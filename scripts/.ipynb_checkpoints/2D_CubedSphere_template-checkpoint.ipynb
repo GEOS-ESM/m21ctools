{
 "cells": [
  {
   "cell_type": "markdown",
   "metadata": {},
   "source": [
    "## Template to read and plot 2D Cubed Sphere data."
   ]
  },
  {
   "cell_type": "code",
   "execution_count": 1,
   "metadata": {},
   "outputs": [],
   "source": [
    "import numpy as np\n",
    "import matplotlib.pyplot as plt\n",
    "import cartopy.crs as ccrs\n",
    "from netCDF4 import Dataset\n",
    "from scipy.interpolate import griddata"
   ]
  },
  {
   "cell_type": "code",
   "execution_count": 6,
   "metadata": {},
   "outputs": [],
   "source": [
    "file_path='../data/sample_CS2d.nc4'\n",
    "\n",
    "#data_variable='MASS'\n",
    "data_variable='QV'"
   ]
  },
  {
   "cell_type": "code",
   "execution_count": 7,
   "metadata": {},
   "outputs": [
    {
     "ename": "KeyError",
     "evalue": "'lons'",
     "output_type": "error",
     "traceback": [
      "\u001b[0;31m---------------------------------------------------------------------------\u001b[0m",
      "\u001b[0;31mKeyError\u001b[0m                                  Traceback (most recent call last)",
      "\u001b[0;32m<ipython-input-7-bd63f6c1f40e>\u001b[0m in \u001b[0;36m<module>\u001b[0;34m\u001b[0m\n\u001b[1;32m     60\u001b[0m \u001b[0;34m\u001b[0m\u001b[0m\n\u001b[1;32m     61\u001b[0m \u001b[0;32mif\u001b[0m \u001b[0m__name__\u001b[0m \u001b[0;34m==\u001b[0m \u001b[0;34m\"__main__\"\u001b[0m\u001b[0;34m:\u001b[0m\u001b[0;34m\u001b[0m\u001b[0;34m\u001b[0m\u001b[0m\n\u001b[0;32m---> 62\u001b[0;31m     \u001b[0mmain\u001b[0m\u001b[0;34m(\u001b[0m\u001b[0mfile_path\u001b[0m\u001b[0;34m)\u001b[0m\u001b[0;34m\u001b[0m\u001b[0;34m\u001b[0m\u001b[0m\n\u001b[0m",
      "\u001b[0;32m<ipython-input-7-bd63f6c1f40e>\u001b[0m in \u001b[0;36mmain\u001b[0;34m(file_path)\u001b[0m\n\u001b[1;32m     34\u001b[0m \u001b[0;34m\u001b[0m\u001b[0m\n\u001b[1;32m     35\u001b[0m \u001b[0;32mdef\u001b[0m \u001b[0mmain\u001b[0m\u001b[0;34m(\u001b[0m\u001b[0mfile_path\u001b[0m\u001b[0;34m)\u001b[0m\u001b[0;34m:\u001b[0m\u001b[0;34m\u001b[0m\u001b[0;34m\u001b[0m\u001b[0m\n\u001b[0;32m---> 36\u001b[0;31m     \u001b[0mdata\u001b[0m\u001b[0;34m,\u001b[0m \u001b[0mlons\u001b[0m\u001b[0;34m,\u001b[0m \u001b[0mlats\u001b[0m \u001b[0;34m=\u001b[0m \u001b[0mread_cubed_sphere_data\u001b[0m\u001b[0;34m(\u001b[0m\u001b[0mfile_path\u001b[0m\u001b[0;34m)\u001b[0m\u001b[0;34m\u001b[0m\u001b[0;34m\u001b[0m\u001b[0m\n\u001b[0m\u001b[1;32m     37\u001b[0m \u001b[0;34m\u001b[0m\u001b[0m\n\u001b[1;32m     38\u001b[0m     \u001b[0mlons\u001b[0m \u001b[0;34m=\u001b[0m \u001b[0madjust_longitudes\u001b[0m\u001b[0;34m(\u001b[0m\u001b[0mlons\u001b[0m\u001b[0;34m)\u001b[0m\u001b[0;34m\u001b[0m\u001b[0;34m\u001b[0m\u001b[0m\n",
      "\u001b[0;32m<ipython-input-7-bd63f6c1f40e>\u001b[0m in \u001b[0;36mread_cubed_sphere_data\u001b[0;34m(file_path)\u001b[0m\n\u001b[1;32m      4\u001b[0m \u001b[0;31m#    data = dataset.variables['MASS'][:]  # Atmospheric mass data  MASS(time, nf, Ydim, Xdim)\u001b[0m\u001b[0;34m\u001b[0m\u001b[0;34m\u001b[0m\u001b[0;34m\u001b[0m\u001b[0m\n\u001b[1;32m      5\u001b[0m     \u001b[0mdata\u001b[0m \u001b[0;34m=\u001b[0m \u001b[0mdataset\u001b[0m\u001b[0;34m.\u001b[0m\u001b[0mvariables\u001b[0m\u001b[0;34m[\u001b[0m\u001b[0;34m'QV'\u001b[0m\u001b[0;34m]\u001b[0m\u001b[0;34m[\u001b[0m\u001b[0;34m:\u001b[0m\u001b[0;34m,\u001b[0m\u001b[0;36m0\u001b[0m\u001b[0;34m,\u001b[0m\u001b[0;34m:\u001b[0m\u001b[0;34m,\u001b[0m\u001b[0;34m:\u001b[0m\u001b[0;34m]\u001b[0m  \u001b[0;31m# Specific humidity data QV(time, lev, nf, Ydim, Xdim); lev=1\u001b[0m\u001b[0;34m\u001b[0m\u001b[0;34m\u001b[0m\u001b[0m\n\u001b[0;32m----> 6\u001b[0;31m     \u001b[0mlons\u001b[0m \u001b[0;34m=\u001b[0m \u001b[0mdataset\u001b[0m\u001b[0;34m.\u001b[0m\u001b[0mvariables\u001b[0m\u001b[0;34m[\u001b[0m\u001b[0;34m'lons'\u001b[0m\u001b[0;34m]\u001b[0m\u001b[0;34m[\u001b[0m\u001b[0;34m:\u001b[0m\u001b[0;34m]\u001b[0m\u001b[0;34m\u001b[0m\u001b[0;34m\u001b[0m\u001b[0m\n\u001b[0m\u001b[1;32m      7\u001b[0m     \u001b[0mlats\u001b[0m \u001b[0;34m=\u001b[0m \u001b[0mdataset\u001b[0m\u001b[0;34m.\u001b[0m\u001b[0mvariables\u001b[0m\u001b[0;34m[\u001b[0m\u001b[0;34m'lats'\u001b[0m\u001b[0;34m]\u001b[0m\u001b[0;34m[\u001b[0m\u001b[0;34m:\u001b[0m\u001b[0;34m]\u001b[0m\u001b[0;34m\u001b[0m\u001b[0;34m\u001b[0m\u001b[0m\n\u001b[1;32m      8\u001b[0m \u001b[0;34m\u001b[0m\u001b[0m\n",
      "\u001b[0;31mKeyError\u001b[0m: 'lons'"
     ]
    }
   ],
   "source": [
    "def read_cubed_sphere_data(file_path):\n",
    "    dataset = Dataset(file_path, 'r')\n",
    "\n",
    "#    data = dataset.variables['MASS'][:]  # Atmospheric mass data  MASS(time, nf, Ydim, Xdim)\n",
    "    data = dataset.variables['QV'][:,0,:,:]  # Specific humidity data QV(time, lev, nf, Ydim, Xdim); lev=1\n",
    "    lons = dataset.variables['lons'][:]\n",
    "    lats = dataset.variables['lats'][:]\n",
    "\n",
    "    dataset.close()\n",
    "    return data, lons, lats\n",
    "\n",
    "def adjust_longitudes(lons):\n",
    "    lons = np.where(lons > 180, lons - 360, lons)\n",
    "    return lons\n",
    "\n",
    "def interpolate_to_latlon_grid(lat, lon, data, resolution=1.0):\n",
    "    lat_grid = np.arange(-90, 90 + resolution, resolution)\n",
    "    lon_grid = np.arange(-180, 180 + resolution, resolution)\n",
    "    lon_grid, lat_grid = np.meshgrid(lon_grid, lat_grid)\n",
    "\n",
    "    data_grid = griddata((lat.flatten(), lon.flatten()), data.flatten(), (lat_grid, lon_grid), method='linear')\n",
    "\n",
    "    return lat_grid, lon_grid, data_grid\n",
    "\n",
    "def plot_data(lat_grid, lon_grid, data_grid):\n",
    "    fig = plt.figure(figsize=(10, 5))\n",
    "    ax = plt.axes(projection=ccrs.PlateCarree())\n",
    "    ax.coastlines()\n",
    "    plt.contourf(lon_grid, lat_grid, data_grid*1e+3, 60, transform=ccrs.PlateCarree(), cmap='GnBu')\n",
    "#    plt.colorbar(label='Atmospheric Mass (kg m-2)')\n",
    "    plt.colorbar(label='(g kg-2)')\n",
    "    plt.title('Specific Humidity on Latitude-Longitude Grid')\n",
    "    plt.show()\n",
    "\n",
    "def main(file_path):\n",
    "    data, lons, lats = read_cubed_sphere_data(file_path)\n",
    "    \n",
    "    lons = adjust_longitudes(lons)\n",
    "\n",
    "    all_lat = []\n",
    "    all_lon = []\n",
    "    all_data = []\n",
    "\n",
    "    for face_index in range(data.shape[1]):  # Loop over each face\n",
    "        face_data = data[0, face_index, :, :]  # Assuming time index 0 and one vertical level\n",
    "        face_lons = lons[face_index, :, :]\n",
    "        face_lats = lats[face_index, :, :]\n",
    "\n",
    "        all_lat.append(face_lats)\n",
    "        all_lon.append(face_lons)\n",
    "        all_data.append(face_data)\n",
    "\n",
    "    # Combine all faces into single arrays\n",
    "    lat = np.concatenate([lat.flatten() for lat in all_lat])\n",
    "    lon = np.concatenate([lon.flatten() for lon in all_lon])\n",
    "    data = np.concatenate([d.flatten() for d in all_data])\n",
    "\n",
    "    lat_grid, lon_grid, data_grid = interpolate_to_latlon_grid(lat, lon, data)\n",
    "    plot_data(lat_grid, lon_grid, data_grid)\n",
    "\n",
    "if __name__ == \"__main__\":\n",
    "    main(file_path)"
   ]
  },
  {
   "cell_type": "code",
   "execution_count": null,
   "metadata": {},
   "outputs": [],
   "source": []
  }
 ],
 "metadata": {
  "kernelspec": {
   "display_name": "Python 3",
   "language": "python",
   "name": "python3"
  },
  "language_info": {
   "codemirror_mode": {
    "name": "ipython",
    "version": 3
   },
   "file_extension": ".py",
   "mimetype": "text/x-python",
   "name": "python",
   "nbconvert_exporter": "python",
   "pygments_lexer": "ipython3",
   "version": "3.7.4"
  }
 },
 "nbformat": 4,
 "nbformat_minor": 2
}
